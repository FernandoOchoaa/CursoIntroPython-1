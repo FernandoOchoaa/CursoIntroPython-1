{
  "cells": [
    {
      "cell_type": "markdown",
      "metadata": {},
      "source": [
        "### Ejercicio 1"
      ]
    },
    {
      "cell_type": "code",
      "execution_count": 4,
      "metadata": {},
      "outputs": [
        {
          "name": "stdout",
          "output_type": "stream",
          "text": [
            "['venus', 'tierra']\n"
          ]
        }
      ],
      "source": [
        "# Se declaran las 2 variables\n",
        "\n",
        "new_planet = ''\n",
        "planets = []\n",
        "\n",
        "# Escribir el ciclo While que se detendrá una vez que haya sido ingresada la palabra done\n",
        "\n",
        "# .lower() convierte a minusculas el string ingresado, al iniciar el ciclo la condición inicial\n",
        "# será true porque new_planet esta vacio.\n",
        "while new_planet.lower() != 'done':\n",
        "    if new_planet:\n",
        "        planets.append(new_planet)\n",
        "    new_planet = input('Agrega un nuevo planeta: ')\n",
        "\n",
        "# imprimir lista para validar los valores que se ingresaron\n",
        "print(planets)\n",
        "\n"
      ]
    },
    {
      "cell_type": "markdown",
      "metadata": {},
      "source": [
        "### Ejercicio 2"
      ]
    },
    {
      "cell_type": "code",
      "execution_count": 7,
      "metadata": {},
      "outputs": [
        {
          "name": "stdout",
          "output_type": "stream",
          "text": [
            "venus\n",
            "tierra\n"
          ]
        }
      ],
      "source": [
        "# Escribe tu ciclo for para iterar en una lista de planetas\n",
        "\n",
        "for planet in planets:\n",
        "    print(planet)"
      ]
    }
  ],
  "metadata": {
    "interpreter": {
      "hash": "916dbcbb3f70747c44a77c7bcd40155683ae19c65e1c03b4aa3499c5328201f1"
    },
    "kernelspec": {
      "display_name": "Python 3.8.10 64-bit",
      "language": "python",
      "name": "python3"
    },
    "language_info": {
      "codemirror_mode": {
        "name": "ipython",
        "version": 3
      },
      "file_extension": ".py",
      "mimetype": "text/x-python",
      "name": "python",
      "nbconvert_exporter": "python",
      "pygments_lexer": "ipython3",
      "version": "3.10.1"
    },
    "nteract": {
      "version": "nteract-front-end@1.0.0"
    },
    "orig_nbformat": 4
  },
  "nbformat": 4,
  "nbformat_minor": 2
}
